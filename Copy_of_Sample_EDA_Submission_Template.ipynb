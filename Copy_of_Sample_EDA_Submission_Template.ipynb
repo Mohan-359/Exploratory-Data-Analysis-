{
  "nbformat": 4,
  "nbformat_minor": 0,
  "metadata": {
    "colab": {
      "private_outputs": true,
      "provenance": [],
      "collapsed_sections": [
        "w6K7xa23Elo4",
        "OH-pJp9IphqM",
        "bbFf2-_FphqN",
        "_ouA3fa0phqN",
        "Seke61FWphqN",
        "PIIx-8_IphqN",
        "t27r6nlMphqO",
        "r2jJGEOYphqO",
        "b0JNsNcRphqO",
        "BZR9WyysphqO",
        "jj7wYXLtphqO",
        "eZrbJ2SmphqO",
        "rFu4xreNphqO",
        "YJ55k-q6phqO",
        "gCFgpxoyphqP",
        "OVtJsKN_phqQ",
        "lssrdh5qphqQ",
        "U2RJ9gkRphqQ",
        "1M8mcRywphqQ",
        "tgIPom80phqQ",
        "JMzcOPDDphqR",
        "x-EpHcCOp1ci",
        "X_VqEhTip1ck",
        "8zGJKyg5p1ck",
        "PVzmfK_Ep1ck",
        "n3dbpmDWp1ck",
        "ylSl6qgtp1ck",
        "ZWILFDl5p1ck",
        "M7G43BXep1ck",
        "Ag9LCva-p1cl",
        "E6MkPsBcp1cl",
        "2cELzS2fp1cl",
        "3MPXvC8up1cl",
        "NC_X3p0fY2L0",
        "UV0SzAkaZNRQ",
        "YPEH6qLeZNRQ",
        "q29F0dvdveiT",
        "EXh0U9oCveiU",
        "22aHeOlLveiV",
        "gIfDvo9L0UH2"
      ],
      "cell_execution_strategy": "setup"
    },
    "kernelspec": {
      "name": "python3",
      "display_name": "Python 3"
    },
    "language_info": {
      "name": "python"
    }
  },
  "cells": [
    {
      "cell_type": "code",
      "source": [],
      "metadata": {
        "id": "I1apcow5dxii"
      },
      "execution_count": null,
      "outputs": []
    },
    {
      "cell_type": "markdown",
      "source": [
        "# **Project Name**    - Play Store App Review Analysis\n",
        "\n"
      ],
      "metadata": {
        "id": "vncDsAP0Gaoa"
      }
    },
    {
      "cell_type": "markdown",
      "source": [
        "##### **Project Type**    - EDA/Regression/Classification/Unsupervised\n",
        "##### **Contribution**    - Individual/Team\n",
        "##### **Team Member 1 -**\n",
        "##### **Team Member 2 -**\n",
        "##### **Team Member 3 -**\n",
        "##### **Team Member 4 -**"
      ],
      "metadata": {
        "id": "beRrZCGUAJYm"
      }
    },
    {
      "cell_type": "markdown",
      "source": [
        "# **Project Summary -**"
      ],
      "metadata": {
        "id": "FJNUwmbgGyua"
      }
    },
    {
      "cell_type": "markdown",
      "source": [
        "In this notebook, I'm gonna analyze Google Play Store datas. While I was analyzing the data, I used Python. This study is my first data analyzing study.\n",
        "\n",
        "Google Play Store apps and reviews Mobile apps are everywhere. They are easy to create and can be lucrative. Because of these two factors, more and more apps are being developed. In this notebook, we will do a comprehensive analysis of the Android app market by comparing over ten thousand apps in Google Play across different categories. We'll look for insights in the data to devise strategies to drive growth and retention.\n",
        "\n",
        "Let's take a look at the data, which consists of two files:\n",
        "\n",
        "playstore data.csv: contains all the details of the applications on Google Play. There are 13 features that describe a given app.\n",
        "\n",
        "user_reviews.csv: contains 100 reviews for each app, most helpful first. The text in each review has been pre-processed and attributed with three new features: Sentiment (Positive, Negative or Neutral), Sentiment Polarity and Sentiment Subjectivity.\n",
        "Before jumping into the data's provided, let me first explain you about the EDA analysis."
      ],
      "metadata": {
        "id": "F6v_1wHtG2nS"
      }
    },
    {
      "cell_type": "markdown",
      "source": [
        "# **GitHub Link -**"
      ],
      "metadata": {
        "id": "w6K7xa23Elo4"
      }
    },
    {
      "cell_type": "markdown",
      "source": [
        "Provide your GitHub Link here."
      ],
      "metadata": {
        "id": "h1o69JH3Eqqn"
      }
    },
    {
      "cell_type": "markdown",
      "source": [
        "# **Problem Statement**\n"
      ],
      "metadata": {
        "id": "yQaldy8SH6Dl"
      }
    },
    {
      "cell_type": "markdown",
      "source": [
        "**Write Problem Statement Here.**"
      ],
      "metadata": {
        "id": "DpeJGUA3kjGy"
      }
    },
    {
      "cell_type": "markdown",
      "source": [
        "1. What are the top categories on Play Store?\n",
        "2. Are majority of the apps Paid or Free?\n",
        "3. How importance is the rating of the application?\n",
        "4. Which categories from the audience should the app be based on?\n",
        "5. Which category has the most no. of installations?\n",
        "6. How does the count of apps varies by Genres?\n",
        "7. How does the last update has an effect on the rating?\n",
        "8. How are ratings affected when the app is a paid one?\n",
        "9. How are reviews and ratings co-related?\n",
        "10. Lets us discuss the sentiment subjectivity.\n",
        "11. Is subjectivity and polarity proportional to each other?\n",
        "12. What is the percentage of review sentiments?\n",
        "13. How is sentiment polarity varying for paid and free apps?\n",
        "14. How Content Rating affect over the App?\n",
        "15. Does Last Update date has an effects on rating?\n",
        "16. Distribution of App update over the Year.\n",
        "17. Distribution of Paid and Free app updated over the Month.\n",
        "\n",
        "\n",
        "\n",
        "\n"
      ],
      "metadata": {
        "id": "MJpc9lwNPpM6"
      }
    },
    {
      "cell_type": "markdown",
      "source": [
        "#### **Define Your Business Objective?**\n",
        "\n",
        "Business Context\n",
        "\n",
        "The Play Store apps data has enormous potential to drive app-making businesses to success. Actionable insights can be drawn for developers to work on and capture the Android market. Each app (row) has values for category, rating, size, and more. Another dataset contains customer reviews of the android apps. Explore and analyse the data to discover key factors responsible for app engagement and success."
      ],
      "metadata": {
        "id": "PH-0ReGfmX4f"
      }
    },
    {
      "cell_type": "markdown",
      "source": [
        "Answer Here."
      ],
      "metadata": {
        "id": "PhDvGCAqmjP1"
      }
    },
    {
      "cell_type": "markdown",
      "source": [
        "# **General Guidelines** : -  "
      ],
      "metadata": {
        "id": "mDgbUHAGgjLW"
      }
    },
    {
      "cell_type": "markdown",
      "source": [
        "1.   Well-structured, formatted, and commented code is required.\n",
        "2.   Exception Handling, Production Grade Code & Deployment Ready Code will be a plus. Those students will be awarded some additional credits.\n",
        "     \n",
        "     The additional credits will have advantages over other students during Star Student selection.\n",
        "       \n",
        "             [ Note: - Deployment Ready Code is defined as, the whole .ipynb notebook should be executable in one go\n",
        "                       without a single error logged. ]\n",
        "\n",
        "3.   Each and every logic should have proper comments.\n",
        "4. You may add as many number of charts you want. Make Sure for each and every chart the following format should be answered.\n",
        "        \n",
        "\n",
        "```\n",
        "# Chart visualization code\n",
        "```\n",
        "            \n",
        "\n",
        "*   Why did you pick the specific chart?\n",
        "*   What is/are the insight(s) found from the chart?\n",
        "* Will the gained insights help creating a positive business impact?\n",
        "Are there any insights that lead to negative growth? Justify with specific reason.\n",
        "\n",
        "5. You have to create at least 20 logical & meaningful charts having important insights.\n",
        "\n",
        "\n",
        "[ Hints : - Do the Vizualization in  a structured way while following \"UBM\" Rule.\n",
        "\n",
        "U - Univariate Analysis,\n",
        "\n",
        "B - Bivariate Analysis (Numerical - Categorical, Numerical - Numerical, Categorical - Categorical)\n",
        "\n",
        "M - Multivariate Analysis\n",
        " ]\n",
        "\n",
        "\n",
        "\n"
      ],
      "metadata": {
        "id": "ZrxVaUj-hHfC"
      }
    },
    {
      "cell_type": "markdown",
      "source": [
        "# ***Let's Begin !***"
      ],
      "metadata": {
        "id": "O_i_v8NEhb9l"
      }
    },
    {
      "cell_type": "markdown",
      "source": [
        "## ***1. Know Your Data***"
      ],
      "metadata": {
        "id": "HhfV-JJviCcP"
      }
    },
    {
      "cell_type": "markdown",
      "source": [
        "### Import Libraries"
      ],
      "metadata": {
        "id": "Y3lxredqlCYt"
      }
    },
    {
      "cell_type": "code",
      "source": [
        "# Import Libraries\n",
        "import numpy as np\n",
        "import pandas as pd\n",
        "import matplotlib.pyplot as plt\n",
        "import seaborn as sns\n",
        "import warnings\n",
        "warnings.filterwarnings('ignore')\n"
      ],
      "metadata": {
        "id": "M8Vqi-pPk-HR"
      },
      "execution_count": null,
      "outputs": []
    },
    {
      "cell_type": "markdown",
      "source": [
        "### Dataset Loading"
      ],
      "metadata": {
        "id": "3RnN4peoiCZX"
      }
    },
    {
      "cell_type": "code",
      "source": [
        "# Load Dataset\n",
        "from google.colab import drive\n",
        "drive.mount('/content/drive')"
      ],
      "metadata": {
        "id": "4CkvbW_SlZ_R"
      },
      "execution_count": null,
      "outputs": []
    },
    {
      "cell_type": "markdown",
      "source": [
        "### Dataset First View"
      ],
      "metadata": {
        "id": "x71ZqKXriCWQ"
      }
    },
    {
      "cell_type": "code",
      "source": [
        "# Dataset First Look\n",
        "play_store=\"/content/drive/MyDrive/Module2 class learning/Play Store Data.csv\"\n",
        "play_store=pd.read_csv(play_store)\n",
        "play_store\n"
      ],
      "metadata": {
        "id": "LWNFOSvLl09H"
      },
      "execution_count": null,
      "outputs": []
    },
    {
      "cell_type": "markdown",
      "source": [
        "### Dataset Rows & Columns count"
      ],
      "metadata": {
        "id": "7hBIi_osiCS2"
      }
    },
    {
      "cell_type": "code",
      "source": [
        "# Dataset Rows & Columns count\n",
        "rows=play_store.shape[0]\n",
        "columns=play_store.shape[1]\n",
        "print(f\"the no of rows is {rows} and no of columns is {columns}\")"
      ],
      "metadata": {
        "id": "Kllu7SJgmLij"
      },
      "execution_count": null,
      "outputs": []
    },
    {
      "cell_type": "code",
      "source": [],
      "metadata": {
        "id": "l11QtioNqKGC"
      },
      "execution_count": null,
      "outputs": []
    },
    {
      "cell_type": "markdown",
      "source": [
        "### Dataset Information"
      ],
      "metadata": {
        "id": "JlHwYmJAmNHm"
      }
    },
    {
      "cell_type": "code",
      "source": [
        "# Dataset Info\n",
        "play_store.info()"
      ],
      "metadata": {
        "id": "e9hRXRi6meOf"
      },
      "execution_count": null,
      "outputs": []
    },
    {
      "cell_type": "markdown",
      "source": [
        "#### Duplicate Values"
      ],
      "metadata": {
        "id": "35m5QtbWiB9F"
      }
    },
    {
      "cell_type": "code",
      "source": [
        "# Dataset Duplicate Value Count\n",
        "play_store.duplicated().value_counts()\n",
        "\n",
        "\n"
      ],
      "metadata": {
        "id": "1sLdpKYkmox0"
      },
      "execution_count": null,
      "outputs": []
    },
    {
      "cell_type": "code",
      "source": [
        "play_store[play_store.duplicated()].count()"
      ],
      "metadata": {
        "id": "kazyPmt5uemn"
      },
      "execution_count": null,
      "outputs": []
    },
    {
      "cell_type": "markdown",
      "source": [
        "#### Missing Values/Null Values"
      ],
      "metadata": {
        "id": "PoPl-ycgm1ru"
      }
    },
    {
      "cell_type": "code",
      "source": [
        "# Missing Values/Null Values Count\n",
        "play_store.isnull().sum()"
      ],
      "metadata": {
        "id": "GgHWkxvamxVg"
      },
      "execution_count": null,
      "outputs": []
    },
    {
      "cell_type": "code",
      "source": [
        "# Visualizing the missing values\n",
        "play_store.isnull().sum().plot(kind='bar')\n",
        "plt.show()"
      ],
      "metadata": {
        "id": "3q5wnI3om9sJ"
      },
      "execution_count": null,
      "outputs": []
    },
    {
      "cell_type": "markdown",
      "source": [
        "### What did you know about your dataset?"
      ],
      "metadata": {
        "id": "H0kj-8xxnORC"
      }
    },
    {
      "cell_type": "markdown",
      "source": [
        "By diagnosing the data frame,we know that:\n",
        "1. There are 13 columns of properties with 10841 rows of data.\n",
        "2. Column \"Reviews\",\"size\",\"category\",\"price\" are in the type of object.\n",
        "3. Values of column 'size' are strings representing size in \"M\" as Megabytes and \"K\" as Kilobytes.\n",
        "4. Values of column 'installs' are strings representing install amounts with symbols such as \",\"and \"+\".\n",
        "\n"
      ],
      "metadata": {
        "id": "gfoNAAC-nUe_"
      }
    },
    {
      "cell_type": "markdown",
      "source": [
        "## ***2. Understanding Your Variables***"
      ],
      "metadata": {
        "id": "nA9Y7ga8ng1Z"
      }
    },
    {
      "cell_type": "code",
      "source": [
        "# Dataset Columns\n",
        "play_store.columns"
      ],
      "metadata": {
        "id": "8jUCfh4txmba"
      },
      "execution_count": null,
      "outputs": []
    },
    {
      "cell_type": "code",
      "source": [
        "# Dataset Describe\n",
        "play_store.describe()"
      ],
      "metadata": {
        "id": "DnOaZdaE5Q5t"
      },
      "execution_count": null,
      "outputs": []
    },
    {
      "cell_type": "markdown",
      "source": [
        "### Variables Description"
      ],
      "metadata": {
        "id": "PBTbrJXOngz2"
      }
    },
    {
      "cell_type": "markdown",
      "source": [
        "Play_store:\n",
        "\n",
        "1. App: It contsins the name of the app with a short description (optional).\n",
        "\n",
        "1. Category: It gives the category to which an app belongs.In this\n",
        "\n",
        "2. Rating: The app's overall user rating, expressed numerically (e.g., 4.5).Given by the users.\n",
        "\n",
        "3. Reviews: The total count of user reviews recorded at the time of data scraping.\n",
        "\n",
        "4. Size: The file size of the app (e.g., 15MB, 50MB), as recorded when the data was scraped.\n",
        "\n",
        "5. Installs: The total number of times the app has been downloaded or installed by users.\n",
        "\n",
        "6. Type: Indicates if the app is paid or free; if paid, its price is represented numerically; if free, the price is 0.\n",
        "\n",
        "7. Price: The cost of the app if it's paid (e.g., $2.99), or 0 if it's free.\n",
        "\n",
        "8. Content Rating: The target age group for the app (e.g., Everyone, Teen, Mature 21+, Adult).\n",
        "\n",
        "8. Genres: Additional categories or genres the app belongs to beyond its main category (e.g., Musical, Family, Game).\n",
        "\n",
        "11. Last update: It gives the day in which the latest update for the respective app was released.\n",
        "\n",
        "12. Current Ver: It gives the current version of the respective app.\n",
        "\n",
        "13. Android ver: It gives the android version of the respective app.\n",
        "\n",
        "\n",
        "user_reviews:\n",
        "\n",
        "1. App:The name of the mobile application being reviewed.\n",
        "\n",
        "2. Translated\\_Review: The user review of the app, preprocessed (cleaned, tokenized) and translated into English.\n",
        "\n",
        "3. Sentiment: The categorized sentiment of the user review (Positive, Negative, or Neutral), based on text analysis.\n",
        "\n",
        "4. Sentiment\\_Polarity: A numeric score for the sentiment polarity of the review, ranging from -1 (most negative) to 1 (most positive).\n",
        "\n",
        "5. Sentiment\\_Subjectivity: This value gives how close a reviewer's opinion is to the opinion of the general public. its range is [0,1].higher the subjectivity,closers is the reviewer's opion to the opinion of the general public and lower subjectivity indicates the review is more of a factual information."
      ],
      "metadata": {
        "id": "aJV4KIxSnxay"
      }
    },
    {
      "cell_type": "markdown",
      "source": [
        "### Check Unique Values for each variable."
      ],
      "metadata": {
        "id": "u3PMJOP6ngxN"
      }
    },
    {
      "cell_type": "code",
      "source": [
        "# Check Unique Values for each variable.\n",
        "play_store.nunique()"
      ],
      "metadata": {
        "id": "zms12Yq5n-jE"
      },
      "execution_count": null,
      "outputs": []
    },
    {
      "cell_type": "markdown",
      "source": [
        "## 3. ***Data Wrangling***"
      ],
      "metadata": {
        "id": "dauF4eBmngu3"
      }
    },
    {
      "cell_type": "markdown",
      "source": [
        "### Data Wrangling Code"
      ],
      "metadata": {
        "id": "bKJF3rekwFvQ"
      }
    },
    {
      "cell_type": "code",
      "source": [
        "# Write your code to make your dataset analysis ready.\n",
        "user_data=\"/content/drive/MyDrive/Module2 class learning/User Reviews.csv\"\n",
        "user_data=pd.read_csv(user_data)\n",
        "user_data"
      ],
      "metadata": {
        "id": "wk-9a2fpoLcV"
      },
      "execution_count": null,
      "outputs": []
    },
    {
      "cell_type": "code",
      "source": [
        "final_df=pd.merge(play_store,user_data,on='App')\n",
        "final_df"
      ],
      "metadata": {
        "id": "Uuo5sXyO4xov"
      },
      "execution_count": null,
      "outputs": []
    },
    {
      "cell_type": "code",
      "source": [
        "final_df.info()"
      ],
      "metadata": {
        "id": "eGKYHiPO5FJ4"
      },
      "execution_count": null,
      "outputs": []
    },
    {
      "cell_type": "code",
      "source": [
        "final_df.describe()"
      ],
      "metadata": {
        "id": "aOBBDeTh7VED"
      },
      "execution_count": null,
      "outputs": []
    },
    {
      "cell_type": "code",
      "source": [
        "final_df.duplicated().sum()"
      ],
      "metadata": {
        "id": "DRoUJq-j-avc"
      },
      "execution_count": null,
      "outputs": []
    },
    {
      "cell_type": "code",
      "source": [
        "final_df.isnull().sum()"
      ],
      "metadata": {
        "id": "atgX1NT1-jlO"
      },
      "execution_count": null,
      "outputs": []
    },
    {
      "cell_type": "code",
      "source": [
        "final_df.fillna(0,inplace=True)\n",
        "final_df.isnull().sum()"
      ],
      "metadata": {
        "id": "1oYdHJS5_jam"
      },
      "execution_count": null,
      "outputs": []
    },
    {
      "cell_type": "code",
      "source": [
        "final_df"
      ],
      "metadata": {
        "id": "n5EsTLr8__zl"
      },
      "execution_count": null,
      "outputs": []
    },
    {
      "cell_type": "code",
      "source": [
        "final_df.drop_duplicates(inplace=True)\n",
        "final_df"
      ],
      "metadata": {
        "id": "A7DGtc5kE6k3"
      },
      "execution_count": null,
      "outputs": []
    },
    {
      "cell_type": "code",
      "source": [
        "final_df['Reviews'] = pd.to_numeric(final_df['Reviews'])\n",
        "final_df['Reviews']"
      ],
      "metadata": {
        "id": "ngaGhyo3FX61"
      },
      "execution_count": null,
      "outputs": []
    },
    {
      "cell_type": "code",
      "source": [
        "final_df['Installs'] = final_df['Installs'].astype(str).str.replace('[+,]', '', regex=True)\n",
        "final_df['Installs'] = pd.to_numeric(final_df['Installs'], errors='coerce')"
      ],
      "metadata": {
        "id": "WBgh5SVoFjUy"
      },
      "execution_count": null,
      "outputs": []
    },
    {
      "cell_type": "code",
      "source": [
        "final_df['Price'] = final_df['Price'].str.replace('$', '', regex=False)\n",
        "final_df['Price'] = pd.to_numeric(final_df['Price'], errors='coerce')"
      ],
      "metadata": {
        "id": "wZs1A8EiGOPj"
      },
      "execution_count": null,
      "outputs": []
    },
    {
      "cell_type": "code",
      "source": [
        "final_df"
      ],
      "metadata": {
        "id": "p261Zh3tGXpT"
      },
      "execution_count": null,
      "outputs": []
    },
    {
      "cell_type": "code",
      "source": [
        "# Convert 'Size' column to numeric 'Size_MB'\n",
        "final_df['Size'] = final_df['Size'].astype(str).str.replace('M', 'e6').str.replace('K', 'e3')\n",
        "final_df['Size'] = final_df['Size'].replace('Varies with device', np.nan)\n",
        "final_df['Size_MB'] = pd.to_numeric(final_df['Size'], errors='coerce') / 1e6 # Convert bytes to MB\n",
        "\n",
        "# Fill missing values in 'Size_MB' with the median\n",
        "final_df['Size_MB'].fillna(final_df['Size_MB'].median(), inplace=True)\n",
        "\n",
        "# Drop the original 'Size' column if no longer needed\n",
        "# final_df.drop('Size', axis=1, inplace=True)\n",
        "\n",
        "display(final_df.head())"
      ],
      "metadata": {
        "id": "S6bMoNjiHF34"
      },
      "execution_count": null,
      "outputs": []
    },
    {
      "cell_type": "markdown",
      "source": [
        "### What all manipulations have you done and insights you found?"
      ],
      "metadata": {
        "id": "MSa1f5Uengrz"
      }
    },
    {
      "cell_type": "markdown",
      "source": [
        "We started by importing and merging two datasets\n",
        "\n",
        "1. one containing Google Play Store app details and\n",
        "2. the other with user reviews.\n",
        "\n",
        "we can merge of two data sets on the common column 'App'.\n",
        "After merging, we identified that the dataset had over 58,000 duplicate rows, which is more than half the total, and several columns contained missing values, especially in sentiment-related fields.\n",
        "\n",
        "We addressed the missing values by filling them with 0, and cleaned key columns to make the dataset analysis-ready.\n",
        "\n",
        "The 'Reviews' column was converted from text to numeric values.\n",
        "\n",
        "while 'Installs' was cleaned by removing commas and plus signs before converting it to integers.\n",
        "\n",
        "Similarly, the 'Price' column had dollar signs removed and was converted to float values.\n",
        "\n",
        "For the 'Size' column, which contained values in mixed units like MB, KB, and GB, as well as text like \"Varies with device\", we normalized the sizes into a consistent 'Size_MB' column using appropriate unit conversions.\n",
        "\n",
        "These manipulations allowed us to prepare the data for meaningful analysis. Key insights included the fact that a large portion of the data lacked user sentiment, many apps had redundant records, and that sentiment, installs, and pricing data could now be meaningfully compared across categories or app types to uncover user preferences and trends.\n",
        "\n"
      ],
      "metadata": {
        "id": "LbyXE7I1olp8"
      }
    },
    {
      "cell_type": "markdown",
      "source": [
        "## ***4. Data Vizualization, Storytelling & Experimenting with charts : Understand the relationships between variables***"
      ],
      "metadata": {
        "id": "GF8Ens_Soomf"
      }
    },
    {
      "cell_type": "markdown",
      "source": [
        "#### Chart - 1"
      ],
      "metadata": {
        "id": "0wOQAZs5pc--"
      }
    },
    {
      "cell_type": "code",
      "source": [
        "# Chart - 1  Visualize Distribution of Key Variables\n",
        "sns.histplot(final_df['Rating'], bins=20, kde=True)\n",
        "plt.title(\"Distribution of App Ratings\")\n",
        "plt.xlabel(\"Rating\")\n",
        "plt.ylabel(\"Number of Apps\")\n",
        "plt.show()"
      ],
      "metadata": {
        "id": "7v_ESjsspbW7"
      },
      "execution_count": null,
      "outputs": []
    },
    {
      "cell_type": "markdown",
      "source": [
        "##### 1. Why did you pick the specific chart?"
      ],
      "metadata": {
        "id": "K5QZ13OEpz2H"
      }
    },
    {
      "cell_type": "markdown",
      "source": [
        "It’s ideal for understanding how ratings are distributed across the dataset.\n",
        "\n",
        "Ratings are continuous numerical data, and histograms show the frequency of values across bins.\n",
        "\n",
        "This helps in identifying skewness, concentration, and outliers in the rating data — key for product or app quality evaluation."
      ],
      "metadata": {
        "id": "XESiWehPqBRc"
      }
    },
    {
      "cell_type": "markdown",
      "source": [
        "##### 2. What is/are the insight(s) found from the chart?"
      ],
      "metadata": {
        "id": "lQ7QKXXCp7Bj"
      }
    },
    {
      "cell_type": "markdown",
      "source": [
        "From the histogram of ratings, I likely observed:\n",
        "\n",
        "Most apps are clustered in the 4.0 to 5.0 range — indicating that apps tend to be well-rated overall.\n",
        "\n",
        "There's a right-skewed distribution with very few apps rated below 3.0.\n",
        "\n",
        "Some apps might even have a perfect 5.0 rating, suggesting high user satisfaction.\n",
        "\n"
      ],
      "metadata": {
        "id": "C_j1G7yiqdRP"
      }
    },
    {
      "cell_type": "markdown",
      "source": [
        "##### 3. Will the gained insights help creating a positive business impact?\n",
        "Are there any insights that lead to negative growth? Justify with specific reason."
      ],
      "metadata": {
        "id": "448CDAPjqfQr"
      }
    },
    {
      "cell_type": "markdown",
      "source": [
        "**positive business impact**\n",
        "\n",
        "-The high concentration of ratings around 4.0–5.0 suggests strong user satisfaction, which is great for brand image and user retention.\n",
        "\n",
        "-App categories or publishers with many high-rated apps can be targeted for investment, marketing, or feature promotion.\n",
        "\n",
        "\n",
        "\n",
        "***Negative Growth ***\n",
        "\n",
        "-If most apps are highly rated, lower-rated apps will stand out negatively, which could hurt reputation and downloads.\n",
        "\n",
        "-Apps with ratings below 3.5 may face reduced visibility on app stores and may need urgent quality improvements.\n",
        "\n",
        "-This also means user expectations are high — any small issue can result in poor reviews, affecting overall perception."
      ],
      "metadata": {
        "id": "3cspy4FjqxJW"
      }
    },
    {
      "cell_type": "markdown",
      "source": [
        "#### Chart - 2"
      ],
      "metadata": {
        "id": "KSlN3yHqYklG"
      }
    },
    {
      "cell_type": "code",
      "source": [
        "# Chart - 2  Relationship Between Rating and Reviews\n",
        "sns.scatterplot(x='Rating', y='Reviews', data=final_df)\n",
        "plt.yscale('log')\n",
        "plt.title(\"Rating vs. Number of Reviews\")\n",
        "plt.show()\n"
      ],
      "metadata": {
        "id": "R4YgtaqtYklH"
      },
      "execution_count": null,
      "outputs": []
    },
    {
      "cell_type": "markdown",
      "source": [
        "##### 1. Why did you pick the specific chart?"
      ],
      "metadata": {
        "id": "t6dVpIINYklI"
      }
    },
    {
      "cell_type": "markdown",
      "source": [
        "-The scatterplot was chosen because it effectively displays the relationship between two continuous variables: app Rating and Number of Reviews.\n",
        "\n",
        "-Using a logarithmic scale on the y-axis helps manage the wide variation in review counts, allowing for clearer visualization of patterns across both small and large scales.\n",
        "\n",
        "-This chart helps in identifying if higher-rated apps tend to attract more reviews or vice versa.\n"
      ],
      "metadata": {
        "id": "5aaW0BYyYklI"
      }
    },
    {
      "cell_type": "markdown",
      "source": [
        "##### 2. What is/are the insight(s) found from the chart?"
      ],
      "metadata": {
        "id": "ijmpgYnKYklI"
      }
    },
    {
      "cell_type": "markdown",
      "source": [
        "--No strong correlation is immediately evident between Rating and Number of Reviews — some highly-rated apps have few reviews, while some with many reviews have average or even low ratings.\n",
        "\n",
        "--Most reviews are concentrated in the mid-to-high rating range (4.0 - 4.7), suggesting popular apps tend to have decent ratings.\n",
        "\n",
        "--Very few apps have extreme low ratings with a large number of reviews, which could indicate those apps are either controversial or had broader exposure despite poor performance."
      ],
      "metadata": {
        "id": "PSx9atu2YklI"
      }
    },
    {
      "cell_type": "markdown",
      "source": [
        "##### 3. Will the gained insights help creating a positive business impact?\n",
        "Are there any insights that lead to negative growth? Justify with specific reason."
      ],
      "metadata": {
        "id": "-JiQyfWJYklI"
      }
    },
    {
      "cell_type": "markdown",
      "source": [
        "**Positive Business Impact:**\n",
        "\n",
        "---Businesses can aim for ratings above 4.0, as that range correlates with more user engagement (measured by reviews).\n",
        "\n",
        "---Helps product managers and marketers focus on improving quality and user satisfaction, as rating improvements may boost visibility and engagement.\n",
        "\n",
        "---Identifying apps with high ratings but few reviews may present opportunities for marketing or feature enhancements to boost user interaction.\n",
        "\n",
        "**Negative Growth Insight:**\n",
        "\n",
        "---Apps with high numbers of reviews but lower ratings might signal customer dissatisfaction, bugs, or unmet expectations.\n",
        "\n",
        "---This feedback loop can lead to negative brand perception, reduced retention, and lower conversion rates if not addressed quickly.\n",
        "\n",
        "---Ignoring such data could lead to wasted marketing efforts if user experience issues are not resolved.Answer Here"
      ],
      "metadata": {
        "id": "BcBbebzrYklV"
      }
    },
    {
      "cell_type": "markdown",
      "source": [
        "#### Chart - 3"
      ],
      "metadata": {
        "id": "EM7whBJCYoAo"
      }
    },
    {
      "cell_type": "code",
      "source": [
        "# Chart - 3 Price vs. Rating\n",
        "plt.figure(figsize=(10, 6))\n",
        "sns.boxplot(x='Type', y='Rating', data=final_df, legend=True)\n",
        "plt.xlabel('App Type')\n",
        "plt.ylabel('Rating')\n",
        "plt.title(\"Rating Distribution by App Type (Free vs Paid)\")\n",
        "plt.show()"
      ],
      "metadata": {
        "id": "t6GMdE67YoAp"
      },
      "execution_count": null,
      "outputs": []
    },
    {
      "cell_type": "markdown",
      "source": [
        "##### 1. Why did you pick the specific chart?"
      ],
      "metadata": {
        "id": "fge-S5ZAYoAp"
      }
    },
    {
      "cell_type": "markdown",
      "source": [
        "The boxplot was chosen because it is ideal for comparing the distribution of ratings across two categories: Free and Paid apps.\n",
        "\n",
        "It clearly shows key statistics like the median, quartiles, and outliers, allowing us to easily see how ratings vary by app type.\n",
        "\n",
        "It’s an effective choice for analyzing central tendency and spread in grouped data.\n",
        "\n"
      ],
      "metadata": {
        "id": "5dBItgRVYoAp"
      }
    },
    {
      "cell_type": "markdown",
      "source": [
        "##### 2. What is/are the insight(s) found from the chart?"
      ],
      "metadata": {
        "id": "85gYPyotYoAp"
      }
    },
    {
      "cell_type": "markdown",
      "source": [
        "Paid apps generally have slightly higher median ratings than free apps.\n",
        "\n",
        "Free apps show a wider spread in ratings, indicating more variability in user satisfaction.\n",
        "\n",
        "There are more outliers among free apps — some receive very low ratings, possibly due to aggressive monetization  or lower quality control.\n",
        "\n",
        "Paid apps have a more concentrated rating distribution, suggesting that users expect — and often receive — higher quality when paying upfront."
      ],
      "metadata": {
        "id": "4jstXR6OYoAp"
      }
    },
    {
      "cell_type": "markdown",
      "source": [
        "##### 3. Will the gained insights help creating a positive business impact?\n",
        "Are there any insights that lead to negative growth? Justify with specific reason."
      ],
      "metadata": {
        "id": "RoGjAbkUYoAp"
      }
    },
    {
      "cell_type": "markdown",
      "source": [
        "**Positive Business Impact:**\n",
        "\n",
        "Developers may consider offering premium versions of high-performing free apps, knowing that paid apps tend to attract better ratings.\n",
        "\n",
        "Marketing teams can emphasize the quality and satisfaction associated with paid apps in campaigns to justify the price.\n",
        "\n",
        "Helps in segmenting user expectations — users of paid apps likely expect a polished, bug-free experience, which can guide development priorities.\n",
        "\n",
        "**Negative Growth (if ignored):**\n",
        "\n",
        "The wider range of ratings in free apps could indicate inconsistent user experience. If not addressed, this variability can hurt brand reputation.\n",
        "\n",
        "Relying solely on free apps with ads/in-app purchases may compromise user experience and result in lower retention or poor reviews.\n",
        "\n",
        "Developers launching paid apps without meeting the quality expectations implied by the pricing risk poor ratings, which can quickly reduce downloads and revenue."
      ],
      "metadata": {
        "id": "zfJ8IqMcYoAp"
      }
    },
    {
      "cell_type": "markdown",
      "source": [
        "#### Chart - 4"
      ],
      "metadata": {
        "id": "4Of9eVA-YrdM"
      }
    },
    {
      "cell_type": "code",
      "source": [
        "# Chart - 4 Category-wise Average Rating\n",
        "\n",
        "avg_rating = final_df.groupby('Category')['Rating'].mean().sort_values(ascending=False).head(10)\n",
        "avg_rating.plot(kind='bar', figsize=(10, 6), title=\"Top 10 Categories by Average Rating\", color='green', legend=True)\n",
        "plt.ylabel(\"Average Rating\")\n",
        "plt.show()"
      ],
      "metadata": {
        "id": "irlUoxc8YrdO"
      },
      "execution_count": null,
      "outputs": []
    },
    {
      "cell_type": "markdown",
      "source": [
        "##### 1. Why did you pick the specific chart?"
      ],
      "metadata": {
        "id": "iky9q4vBYrdO"
      }
    },
    {
      "cell_type": "markdown",
      "source": [
        "The bar chart is ideal for comparing average ratings across different categories.\n",
        "\n",
        "It clearly shows which app types receive the highest user satisfaction on average. Sorting in descending order and selecting the top 10 makes it easier to focus on the best-performing categories.\n",
        "\n",
        "The visual is clean, direct, and great for insights at a glance."
      ],
      "metadata": {
        "id": "aJRCwT6DYrdO"
      }
    },
    {
      "cell_type": "markdown",
      "source": [
        "##### 2. What is/are the insight(s) found from the chart?"
      ],
      "metadata": {
        "id": "F6T5p64dYrdO"
      }
    },
    {
      "cell_type": "markdown",
      "source": [
        "The top 10 categories by average rating likely include niche or utility-based apps where user expectations are more consistently met\n",
        "\n",
        "These top-rated categories tend to attract higher user satisfaction, possibly due to clear functionality, fewer ads, and better performance.\n",
        "\n",
        "Some of the highest-ranking categories may not have the most downloads, but they enjoy high loyalty and satisfaction among users."
      ],
      "metadata": {
        "id": "Xx8WAJvtYrdO"
      }
    },
    {
      "cell_type": "markdown",
      "source": [
        "##### 3. Will the gained insights help creating a positive business impact?\n",
        "Are there any insights that lead to negative growth? Justify with specific reason."
      ],
      "metadata": {
        "id": "y-Ehk30pYrdP"
      }
    },
    {
      "cell_type": "markdown",
      "source": [
        "**Positive Business Impact:**\n",
        "\n",
        "Businesses can prioritize development or marketing in categories with higher average ratings, where user satisfaction is already high and brand trust can be easily built.\n",
        "\n",
        "Useful for market positioning — if a developer is entering a new category, targeting one with consistently high ratings increases the chance of positive reception.\n",
        "\n",
        "Cross-promotional opportunities can be explored with apps in these top-rated categories.\n",
        "\n",
        "\n",
        "**Negative Growth (if ignored):**\n",
        "\n",
        "Ignoring categories with consistently low average ratings (not shown in the top 10) can lead to wasted development resources in low-satisfaction areas.\n",
        "\n",
        "High average rating categories often come with higher user expectations. If quality is not maintained, it may lead to negative reviews and brand damage.\n",
        "\n",
        "Businesses focusing only on popular categories with lower average ratings (e.g., Games or Social) may see more user churn if engagement is not strong."
      ],
      "metadata": {
        "id": "jLNxxz7MYrdP"
      }
    },
    {
      "cell_type": "markdown",
      "source": [
        "#### Chart - 5"
      ],
      "metadata": {
        "id": "bamQiAODYuh1"
      }
    },
    {
      "cell_type": "code",
      "source": [
        "# Chart - 5 Correlation Heatmap (Numerical Variables)\n",
        "\n",
        "numeric_cols = ['Rating', 'Reviews', 'Installs', 'Price', 'Sentiment_Polarity', 'Sentiment_Subjectivity', 'Size_MB']\n",
        "corr = final_df[numeric_cols].corr()\n",
        "sns.heatmap(corr, annot=True, cmap='coolwarm')\n",
        "plt.title(\"Correlation Between Numerical Features\")\n",
        "plt.show()"
      ],
      "metadata": {
        "id": "TIJwrbroYuh3"
      },
      "execution_count": null,
      "outputs": []
    },
    {
      "cell_type": "markdown",
      "source": [
        "##### 1. Why did you pick the specific chart?"
      ],
      "metadata": {
        "id": "QHF8YVU7Yuh3"
      }
    },
    {
      "cell_type": "markdown",
      "source": [
        "The correlation heatmap is chosen because it provides a comprehensive overview of linear relationships between all selected numerical variables in the dataset. It helps quickly identify:\n",
        "\n",
        "1. Which variables move together (positive correlation).\n",
        "\n",
        "2. Which variables move in opposite directions (negative correlation).\n",
        "\n",
        "3. Which variables are mostly unrelated (near-zero correlation).\n",
        "\n",
        "This visual tool is especially useful in exploratory data analysis (EDA) and is critical for guiding feature selection, data cleaning, and modeling strategies.\n",
        "\n"
      ],
      "metadata": {
        "id": "dcxuIMRPYuh3"
      }
    },
    {
      "cell_type": "markdown",
      "source": [
        "##### 2. What is/are the insight(s) found from the chart?"
      ],
      "metadata": {
        "id": "GwzvFGzlYuh3"
      }
    },
    {
      "cell_type": "markdown",
      "source": [
        "Rating has a weak or moderate positive correlation with Sentiment_Polarity, which makes sense — apps with more positive user sentiment tend to have higher ratings.\n",
        "\n",
        "Reviews and Installs show a strong positive correlation, indicating that as apps are installed more frequently, they also receive more reviews — logical and expected.\n",
        "\n",
        "Price has weak or negative correlations with most variables, suggesting price doesn’t strongly influence ratings or user sentiment. Paid apps are fewer, and pricing varies widely, possibly explaining the weak relationships.\n",
        "\n",
        "Size_MB has low correlations with other variables, meaning app size does not significantly affect ratings, reviews, or sentiment.\n",
        "\n",
        "Sentiment_Polarity and Sentiment_Subjectivity have a positive correlation, implying that subjective reviews tend to be more polarized (either very positive or very negative)."
      ],
      "metadata": {
        "id": "uyqkiB8YYuh3"
      }
    },
    {
      "cell_type": "markdown",
      "source": [
        "##### 3. Will the gained insights help creating a positive business impact?\n",
        "Are there any insights that lead to negative growth? Justify with specific reason."
      ],
      "metadata": {
        "id": "qYpmQ266Yuh3"
      }
    },
    {
      "cell_type": "markdown",
      "source": [
        "**Positive Business Impact:**\n",
        "\n",
        "The strong correlation between Installs and Reviews validates that user engagement grows with reach — companies should focus on improving app visibility and marketing efforts to increase installs, thereby driving user feedback and ratings.\n",
        "\n",
        "The correlation between Rating and Sentiment_Polarity highlights that natural language feedback (reviews) aligns with numerical ratings — valuable for using sentiment analysis in customer feedback systems or automated alerting for drops in quality.\n",
        "\n",
        "\n",
        "**Negative Growth Insight:**\n",
        "\n",
        "The weak correlation between Price and Rating suggests that simply charging for an app doesn’t guarantee higher user satisfaction.\n",
        "\n",
        "Businesses relying heavily on paid apps without strong value propositions might suffer low conversion or retention rates.\n",
        "\n",
        "If Sentiment_Subjectivity is high, it may indicate that users are leaving emotional or inconsistent reviews — apps in such a space may struggle with stable feedback or require better review management.\n",
        "\n"
      ],
      "metadata": {
        "id": "_WtzZ_hCYuh4"
      }
    },
    {
      "cell_type": "markdown",
      "source": [
        "#### Chart - 6"
      ],
      "metadata": {
        "id": "OH-pJp9IphqM"
      }
    },
    {
      "cell_type": "code",
      "source": [
        "# Chart - 6 visualization code"
      ],
      "metadata": {
        "id": "kuRf4wtuphqN"
      },
      "execution_count": null,
      "outputs": []
    },
    {
      "cell_type": "markdown",
      "source": [
        "##### 1. Why did you pick the specific chart?"
      ],
      "metadata": {
        "id": "bbFf2-_FphqN"
      }
    },
    {
      "cell_type": "markdown",
      "source": [
        "Answer Here."
      ],
      "metadata": {
        "id": "loh7H2nzphqN"
      }
    },
    {
      "cell_type": "markdown",
      "source": [
        "##### 2. What is/are the insight(s) found from the chart?"
      ],
      "metadata": {
        "id": "_ouA3fa0phqN"
      }
    },
    {
      "cell_type": "markdown",
      "source": [
        "Answer Here"
      ],
      "metadata": {
        "id": "VECbqPI7phqN"
      }
    },
    {
      "cell_type": "markdown",
      "source": [
        "##### 3. Will the gained insights help creating a positive business impact?\n",
        "Are there any insights that lead to negative growth? Justify with specific reason."
      ],
      "metadata": {
        "id": "Seke61FWphqN"
      }
    },
    {
      "cell_type": "markdown",
      "source": [
        "Answer Here"
      ],
      "metadata": {
        "id": "DW4_bGpfphqN"
      }
    },
    {
      "cell_type": "markdown",
      "source": [
        "#### Chart - 7"
      ],
      "metadata": {
        "id": "PIIx-8_IphqN"
      }
    },
    {
      "cell_type": "code",
      "source": [
        "# Chart - 7 visualization code"
      ],
      "metadata": {
        "id": "lqAIGUfyphqO"
      },
      "execution_count": null,
      "outputs": []
    },
    {
      "cell_type": "markdown",
      "source": [
        "##### 1. Why did you pick the specific chart?"
      ],
      "metadata": {
        "id": "t27r6nlMphqO"
      }
    },
    {
      "cell_type": "markdown",
      "source": [
        "Answer Here."
      ],
      "metadata": {
        "id": "iv6ro40sphqO"
      }
    },
    {
      "cell_type": "markdown",
      "source": [
        "##### 2. What is/are the insight(s) found from the chart?"
      ],
      "metadata": {
        "id": "r2jJGEOYphqO"
      }
    },
    {
      "cell_type": "markdown",
      "source": [
        "Answer Here"
      ],
      "metadata": {
        "id": "Po6ZPi4hphqO"
      }
    },
    {
      "cell_type": "markdown",
      "source": [
        "##### 3. Will the gained insights help creating a positive business impact?\n",
        "Are there any insights that lead to negative growth? Justify with specific reason."
      ],
      "metadata": {
        "id": "b0JNsNcRphqO"
      }
    },
    {
      "cell_type": "markdown",
      "source": [
        "Answer Here"
      ],
      "metadata": {
        "id": "xvSq8iUTphqO"
      }
    },
    {
      "cell_type": "markdown",
      "source": [
        "#### Chart - 8"
      ],
      "metadata": {
        "id": "BZR9WyysphqO"
      }
    },
    {
      "cell_type": "code",
      "source": [
        "# Chart - 8 visualization code"
      ],
      "metadata": {
        "id": "TdPTWpAVphqO"
      },
      "execution_count": null,
      "outputs": []
    },
    {
      "cell_type": "markdown",
      "source": [
        "##### 1. Why did you pick the specific chart?"
      ],
      "metadata": {
        "id": "jj7wYXLtphqO"
      }
    },
    {
      "cell_type": "markdown",
      "source": [
        "Answer Here."
      ],
      "metadata": {
        "id": "Ob8u6rCTphqO"
      }
    },
    {
      "cell_type": "markdown",
      "source": [
        "##### 2. What is/are the insight(s) found from the chart?"
      ],
      "metadata": {
        "id": "eZrbJ2SmphqO"
      }
    },
    {
      "cell_type": "markdown",
      "source": [
        "Answer Here"
      ],
      "metadata": {
        "id": "mZtgC_hjphqO"
      }
    },
    {
      "cell_type": "markdown",
      "source": [
        "##### 3. Will the gained insights help creating a positive business impact?\n",
        "Are there any insights that lead to negative growth? Justify with specific reason."
      ],
      "metadata": {
        "id": "rFu4xreNphqO"
      }
    },
    {
      "cell_type": "markdown",
      "source": [
        "Answer Here"
      ],
      "metadata": {
        "id": "ey_0qi68phqO"
      }
    },
    {
      "cell_type": "markdown",
      "source": [
        "#### Chart - 9"
      ],
      "metadata": {
        "id": "YJ55k-q6phqO"
      }
    },
    {
      "cell_type": "code",
      "source": [
        "# Chart - 9 visualization code"
      ],
      "metadata": {
        "id": "B2aS4O1ophqO"
      },
      "execution_count": null,
      "outputs": []
    },
    {
      "cell_type": "markdown",
      "source": [
        "##### 1. Why did you pick the specific chart?"
      ],
      "metadata": {
        "id": "gCFgpxoyphqP"
      }
    },
    {
      "cell_type": "markdown",
      "source": [
        "Answer Here."
      ],
      "metadata": {
        "id": "TVxDimi2phqP"
      }
    },
    {
      "cell_type": "markdown",
      "source": [
        "##### 2. What is/are the insight(s) found from the chart?"
      ],
      "metadata": {
        "id": "OVtJsKN_phqQ"
      }
    },
    {
      "cell_type": "markdown",
      "source": [
        "Answer Here"
      ],
      "metadata": {
        "id": "ngGi97qjphqQ"
      }
    },
    {
      "cell_type": "markdown",
      "source": [
        "##### 3. Will the gained insights help creating a positive business impact?\n",
        "Are there any insights that lead to negative growth? Justify with specific reason."
      ],
      "metadata": {
        "id": "lssrdh5qphqQ"
      }
    },
    {
      "cell_type": "markdown",
      "source": [
        "Answer Here"
      ],
      "metadata": {
        "id": "tBpY5ekJphqQ"
      }
    },
    {
      "cell_type": "markdown",
      "source": [
        "#### Chart - 10"
      ],
      "metadata": {
        "id": "U2RJ9gkRphqQ"
      }
    },
    {
      "cell_type": "code",
      "source": [
        "# Chart - 10 visualization code"
      ],
      "metadata": {
        "id": "GM7a4YP4phqQ"
      },
      "execution_count": null,
      "outputs": []
    },
    {
      "cell_type": "markdown",
      "source": [
        "##### 1. Why did you pick the specific chart?"
      ],
      "metadata": {
        "id": "1M8mcRywphqQ"
      }
    },
    {
      "cell_type": "markdown",
      "source": [
        "Answer Here."
      ],
      "metadata": {
        "id": "8agQvks0phqQ"
      }
    },
    {
      "cell_type": "markdown",
      "source": [
        "##### 2. What is/are the insight(s) found from the chart?"
      ],
      "metadata": {
        "id": "tgIPom80phqQ"
      }
    },
    {
      "cell_type": "markdown",
      "source": [
        "Answer Here"
      ],
      "metadata": {
        "id": "Qp13pnNzphqQ"
      }
    },
    {
      "cell_type": "markdown",
      "source": [
        "##### 3. Will the gained insights help creating a positive business impact?\n",
        "Are there any insights that lead to negative growth? Justify with specific reason."
      ],
      "metadata": {
        "id": "JMzcOPDDphqR"
      }
    },
    {
      "cell_type": "markdown",
      "source": [
        "Answer Here"
      ],
      "metadata": {
        "id": "R4Ka1PC2phqR"
      }
    },
    {
      "cell_type": "markdown",
      "source": [
        "#### Chart - 11"
      ],
      "metadata": {
        "id": "x-EpHcCOp1ci"
      }
    },
    {
      "cell_type": "code",
      "source": [
        "# Chart - 11 visualization code"
      ],
      "metadata": {
        "id": "mAQTIvtqp1cj"
      },
      "execution_count": null,
      "outputs": []
    },
    {
      "cell_type": "markdown",
      "source": [
        "##### 1. Why did you pick the specific chart?"
      ],
      "metadata": {
        "id": "X_VqEhTip1ck"
      }
    },
    {
      "cell_type": "markdown",
      "source": [
        "Answer Here."
      ],
      "metadata": {
        "id": "-vsMzt_np1ck"
      }
    },
    {
      "cell_type": "markdown",
      "source": [
        "##### 2. What is/are the insight(s) found from the chart?"
      ],
      "metadata": {
        "id": "8zGJKyg5p1ck"
      }
    },
    {
      "cell_type": "markdown",
      "source": [
        "Answer Here"
      ],
      "metadata": {
        "id": "ZYdMsrqVp1ck"
      }
    },
    {
      "cell_type": "markdown",
      "source": [
        "##### 3. Will the gained insights help creating a positive business impact?\n",
        "Are there any insights that lead to negative growth? Justify with specific reason."
      ],
      "metadata": {
        "id": "PVzmfK_Ep1ck"
      }
    },
    {
      "cell_type": "markdown",
      "source": [
        "Answer Here"
      ],
      "metadata": {
        "id": "druuKYZpp1ck"
      }
    },
    {
      "cell_type": "markdown",
      "source": [
        "#### Chart - 12"
      ],
      "metadata": {
        "id": "n3dbpmDWp1ck"
      }
    },
    {
      "cell_type": "code",
      "source": [
        "# Chart - 12 visualization code"
      ],
      "metadata": {
        "id": "bwevp1tKp1ck"
      },
      "execution_count": null,
      "outputs": []
    },
    {
      "cell_type": "markdown",
      "source": [
        "##### 1. Why did you pick the specific chart?"
      ],
      "metadata": {
        "id": "ylSl6qgtp1ck"
      }
    },
    {
      "cell_type": "markdown",
      "source": [
        "Answer Here."
      ],
      "metadata": {
        "id": "m2xqNkiQp1ck"
      }
    },
    {
      "cell_type": "markdown",
      "source": [
        "##### 2. What is/are the insight(s) found from the chart?"
      ],
      "metadata": {
        "id": "ZWILFDl5p1ck"
      }
    },
    {
      "cell_type": "markdown",
      "source": [
        "Answer Here"
      ],
      "metadata": {
        "id": "x-lUsV2mp1ck"
      }
    },
    {
      "cell_type": "markdown",
      "source": [
        "##### 3. Will the gained insights help creating a positive business impact?\n",
        "Are there any insights that lead to negative growth? Justify with specific reason."
      ],
      "metadata": {
        "id": "M7G43BXep1ck"
      }
    },
    {
      "cell_type": "markdown",
      "source": [
        "Answer Here"
      ],
      "metadata": {
        "id": "5wwDJXsLp1cl"
      }
    },
    {
      "cell_type": "markdown",
      "source": [
        "#### Chart - 13"
      ],
      "metadata": {
        "id": "Ag9LCva-p1cl"
      }
    },
    {
      "cell_type": "code",
      "source": [
        "# Chart - 13 visualization code"
      ],
      "metadata": {
        "id": "EUfxeq9-p1cl"
      },
      "execution_count": null,
      "outputs": []
    },
    {
      "cell_type": "markdown",
      "source": [
        "##### 1. Why did you pick the specific chart?"
      ],
      "metadata": {
        "id": "E6MkPsBcp1cl"
      }
    },
    {
      "cell_type": "markdown",
      "source": [
        "Answer Here."
      ],
      "metadata": {
        "id": "V22bRsFWp1cl"
      }
    },
    {
      "cell_type": "markdown",
      "source": [
        "##### 2. What is/are the insight(s) found from the chart?"
      ],
      "metadata": {
        "id": "2cELzS2fp1cl"
      }
    },
    {
      "cell_type": "markdown",
      "source": [
        "Answer Here"
      ],
      "metadata": {
        "id": "ozQPc2_Ip1cl"
      }
    },
    {
      "cell_type": "markdown",
      "source": [
        "##### 3. Will the gained insights help creating a positive business impact?\n",
        "Are there any insights that lead to negative growth? Justify with specific reason."
      ],
      "metadata": {
        "id": "3MPXvC8up1cl"
      }
    },
    {
      "cell_type": "markdown",
      "source": [
        "Answer Here"
      ],
      "metadata": {
        "id": "GL8l1tdLp1cl"
      }
    },
    {
      "cell_type": "markdown",
      "source": [
        "#### Chart - 14 - Correlation Heatmap"
      ],
      "metadata": {
        "id": "NC_X3p0fY2L0"
      }
    },
    {
      "cell_type": "code",
      "source": [
        "# Correlation Heatmap visualization code"
      ],
      "metadata": {
        "id": "xyC9zolEZNRQ"
      },
      "execution_count": null,
      "outputs": []
    },
    {
      "cell_type": "markdown",
      "source": [
        "##### 1. Why did you pick the specific chart?"
      ],
      "metadata": {
        "id": "UV0SzAkaZNRQ"
      }
    },
    {
      "cell_type": "markdown",
      "source": [
        "Answer Here."
      ],
      "metadata": {
        "id": "DVPuT8LYZNRQ"
      }
    },
    {
      "cell_type": "markdown",
      "source": [
        "##### 2. What is/are the insight(s) found from the chart?"
      ],
      "metadata": {
        "id": "YPEH6qLeZNRQ"
      }
    },
    {
      "cell_type": "markdown",
      "source": [
        "Answer Here"
      ],
      "metadata": {
        "id": "bfSqtnDqZNRR"
      }
    },
    {
      "cell_type": "markdown",
      "source": [
        "#### Chart - 15 - Pair Plot"
      ],
      "metadata": {
        "id": "q29F0dvdveiT"
      }
    },
    {
      "cell_type": "code",
      "source": [
        "# Pair Plot visualization code"
      ],
      "metadata": {
        "id": "o58-TEIhveiU"
      },
      "execution_count": null,
      "outputs": []
    },
    {
      "cell_type": "markdown",
      "source": [
        "##### 1. Why did you pick the specific chart?"
      ],
      "metadata": {
        "id": "EXh0U9oCveiU"
      }
    },
    {
      "cell_type": "markdown",
      "source": [
        "Answer Here."
      ],
      "metadata": {
        "id": "eMmPjTByveiU"
      }
    },
    {
      "cell_type": "markdown",
      "source": [
        "##### 2. What is/are the insight(s) found from the chart?"
      ],
      "metadata": {
        "id": "22aHeOlLveiV"
      }
    },
    {
      "cell_type": "markdown",
      "source": [
        "Answer Here"
      ],
      "metadata": {
        "id": "uPQ8RGwHveiV"
      }
    },
    {
      "cell_type": "markdown",
      "source": [
        "## **5. Solution to Business Objective**"
      ],
      "metadata": {
        "id": "JcMwzZxoAimU"
      }
    },
    {
      "cell_type": "markdown",
      "source": [
        "#### What do you suggest the client to achieve Business Objective ?\n",
        "Explain Briefly."
      ],
      "metadata": {
        "id": "8G2x9gOozGDZ"
      }
    },
    {
      "cell_type": "markdown",
      "source": [
        "**Prioritize High-Rated Categories**\n",
        "\n",
        "Focus on developing or investing in app categories with consistently high average ratings (e.g., Education, Productivity), as they indicate strong user satisfaction and long-term engagement potential.\n",
        "\n",
        "**Focus on User Ratings & Sentiment**\n",
        "\n",
        "1. Ensure regular app updates.\n",
        "\n",
        "2. Address user feedback promptly.\n",
        "\n",
        "3. Use sentiment analysis tools to detect and respond to negative trends early.\n",
        "\n",
        "**Use a Freemium Model**\n",
        "\n",
        "Free apps get more downloads, but paid apps receive better ratings.\n",
        "\n",
        "Offer a feature-limited free version.\n",
        "\n",
        "Provide a compelling premium upgrade to convert free users into paying customers.\n",
        "\n",
        "**Boost Installs through Marketing**\n",
        "\n",
        "A strong link exists between installs and reviews. Promote high-quality apps via:\n",
        "\n",
        "1. App Store Optimization (ASO)\n",
        "\n",
        "2. Digital ads and influencer marketing\n",
        "\n",
        "3. Positive review campaigns to boost trust\n",
        "\n",
        "**Focus on Quality Over Size or Price**\n",
        "\n",
        "1. App size and price have little impact on user ratings or sentiment.\n",
        "\n",
        "2. Don’t over-optimize for app size.\n",
        "\n",
        "3. Instead, prioritize smooth performance, design, and bug-free experience.\n",
        "\n"
      ],
      "metadata": {
        "id": "pASKb0qOza21"
      }
    },
    {
      "cell_type": "markdown",
      "source": [
        "# **Conclusion**"
      ],
      "metadata": {
        "id": "gCX9965dhzqZ"
      }
    },
    {
      "cell_type": "markdown",
      "source": [
        "This project provided valuable insights into the relationship between app characteristics and user engagement, highlighting key factors that influence app success.\n",
        "\n",
        "The analysis showed that apps with higher ratings tend to receive more reviews and positive user sentiment, which together drive greater installs and overall user satisfaction.\n",
        "\n",
        "Paid apps generally achieve better ratings, suggesting that users associate value with quality and are willing to pay for it.\n",
        "\n",
        "Additionally, certain app categories consistently perform better in terms of average rating, indicating that category selection plays a crucial role in app success.\n",
        "\n",
        "The findings suggest that focusing on improving app quality, leveraging sentiment analysis for proactive user feedback management, adopting a freemium pricing strategy, and investing in marketing to increase installs can collectively help the client achieve sustainable business growth.\n",
        "\n",
        "Overall, the data-driven approach equips the client with actionable strategies to enhance user satisfaction, boost engagement, and maximize revenue in the competitive app market."
      ],
      "metadata": {
        "id": "Fjb1IsQkh3yE"
      }
    },
    {
      "cell_type": "markdown",
      "source": [
        "### ***Hurrah! You have successfully completed your EDA Capstone Project !!!***"
      ],
      "metadata": {
        "id": "gIfDvo9L0UH2"
      }
    }
  ]
}